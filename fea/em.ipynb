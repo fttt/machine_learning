{
 "cells": [
  {
   "cell_type": "code",
   "execution_count": 1,
   "metadata": {
    "collapsed": true
   },
   "outputs": [],
   "source": [
    "books = [\"War and Peace\", \"Anna Karenina\",\n",
    "          \"The Hitchhiker's Guide to the Galaxy\"]\n",
    "books_encoded = [[1, 0, 0],\n",
    "                 [0, 1, 0],\n",
    "                 [0, 0, 1]]"
   ]
  },
  {
   "cell_type": "code",
   "execution_count": 2,
   "outputs": [],
   "source": [
    "# Idealized Representation of Embedding\n",
    "books = [\"War and Peace\", \"Anna Karenina\",\n",
    "          \"The Hitchhiker's Guide to the Galaxy\"]\n",
    "books_encoded_ideal = [[0.53,  0.85],\n",
    "                       [0.60,  0.80],\n",
    "                       [-0.78, -0.62]]"
   ],
   "metadata": {
    "collapsed": false,
    "pycharm": {
     "name": "#%%\n"
    }
   }
  },
  {
   "cell_type": "code",
   "execution_count": null,
   "outputs": [],
   "source": [],
   "metadata": {
    "collapsed": false,
    "pycharm": {
     "name": "#%%\n"
    }
   }
  }
 ],
 "metadata": {
  "kernelspec": {
   "display_name": "Python 3",
   "language": "python",
   "name": "python3"
  },
  "language_info": {
   "codemirror_mode": {
    "name": "ipython",
    "version": 2
   },
   "file_extension": ".py",
   "mimetype": "text/x-python",
   "name": "python",
   "nbconvert_exporter": "python",
   "pygments_lexer": "ipython2",
   "version": "2.7.6"
  }
 },
 "nbformat": 4,
 "nbformat_minor": 0
}