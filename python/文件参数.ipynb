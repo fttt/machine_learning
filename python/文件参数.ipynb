{
 "cells": [
  {
   "cell_type": "markdown",
   "source": [
    "https://docs.python.org/zh-cn/3/library/argparse.html?highlight=argparse"
   ],
   "metadata": {
    "collapsed": false,
    "pycharm": {
     "name": "#%% md\n"
    }
   }
  },
  {
   "cell_type": "code",
   "execution_count": 12,
   "metadata": {
    "collapsed": true,
    "pycharm": {
     "name": "#%%\n"
    }
   },
   "outputs": [],
   "source": [
    "import argparse\n",
    "\n",
    "def Config():\n",
    "    parser = argparse.ArgumentParser()\n",
    "\n",
    "    ##模型参数\n",
    "    parser.add_argument('--learning_rate', type = float, default = 0.001, help = '学习率' )\n",
    "    parser.add_argument('--learning_rate_dec',type = float, default = 0.6, help = '学习下降率,指数级别下降。' )\n",
    "    parser.add_argument('--keep_prob', type = float, default = 0.5, help = 'DropOut训练时最大保留率')\n",
    "    parser.add_argument('--l2_normal', type = float, default = 0.001, help = 'L2正则项')\n",
    "    FLAGS, _ = parser.parse_known_args()\n",
    "    return FLAGS"
   ]
  },
  {
   "cell_type": "code",
   "execution_count": 13,
   "outputs": [],
   "source": [
    "FLAGS = Config()"
   ],
   "metadata": {
    "collapsed": false,
    "pycharm": {
     "name": "#%%\n"
    }
   }
  },
  {
   "cell_type": "code",
   "execution_count": 15,
   "outputs": [
    {
     "data": {
      "text/plain": "0.001"
     },
     "execution_count": 15,
     "metadata": {},
     "output_type": "execute_result"
    }
   ],
   "source": [
    "FLAGS.learning_rate"
   ],
   "metadata": {
    "collapsed": false,
    "pycharm": {
     "name": "#%%\n"
    }
   }
  }
 ],
 "metadata": {
  "kernelspec": {
   "display_name": "Python 3",
   "language": "python",
   "name": "python3"
  },
  "language_info": {
   "codemirror_mode": {
    "name": "ipython",
    "version": 2
   },
   "file_extension": ".py",
   "mimetype": "text/x-python",
   "name": "python",
   "nbconvert_exporter": "python",
   "pygments_lexer": "ipython2",
   "version": "2.7.6"
  }
 },
 "nbformat": 4,
 "nbformat_minor": 0
}