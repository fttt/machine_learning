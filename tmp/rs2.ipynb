{
 "cells": [
  {
   "cell_type": "code",
   "execution_count": 1,
   "metadata": {
    "collapsed": true
   },
   "outputs": [],
   "source": [
    "#extract_weather.py\n",
    "\n",
    "import os\n",
    "import pickle\n",
    "import glob\n",
    "import csv\n",
    "\n",
    "\n",
    "def csv2dicts(csvfile):\n",
    "    data = []\n",
    "    keys = []\n",
    "    for row_index, row in enumerate(csvfile):\n",
    "        if row_index == 0:\n",
    "            keys = row\n",
    "            print(row)\n",
    "            continue\n",
    "        # if row_index % 10000 == 0:\n",
    "        #     print(row_index)\n",
    "        data.append({key: value for key, value in zip(keys, row)})\n",
    "    return data\n",
    "\n",
    "\n",
    "def set_nan_as_string(data, replace_str='0'):\n",
    "    for i, x in enumerate(data):\n",
    "        for key, value in x.items():\n",
    "            if value == '':\n",
    "                x[key] = replace_str\n",
    "        data[i] = x\n",
    "\n",
    "\n",
    "def event2int(event):\n",
    "    event_list = ['', 'Fog-Rain', 'Fog-Snow', 'Fog-Thunderstorm',\n",
    "                  'Rain-Snow-Hail-Thunderstorm', 'Rain-Snow', 'Rain-Snow-Hail',\n",
    "                  'Fog-Rain-Hail', 'Fog', 'Fog-Rain-Hail-Thunderstorm', 'Fog-Snow-Hail',\n",
    "                  'Rain-Hail', 'Rain-Hail-Thunderstorm', 'Fog-Rain-Snow', 'Rain-Thunderstorm',\n",
    "                  'Fog-Rain-Snow-Hail', 'Rain', 'Thunderstorm', 'Snow-Hail',\n",
    "                  'Rain-Snow-Thunderstorm', 'Snow', 'Fog-Rain-Thunderstorm']\n",
    "    return event_list.index(event)\n",
    "\n",
    "\n",
    "def states_names_to_abbreviation(state_name):\n",
    "    d = {}\n",
    "    d['BadenWuerttemberg'] = 'BW'\n",
    "    d['Bayern'] = 'BY'\n",
    "    d['Berlin'] = 'BE'\n",
    "    d['Brandenburg'] = 'BB'  # do not exist in store_state\n",
    "    d['Bremen'] = 'HB'  # we use Niedersachsen instead of Bremen\n",
    "    d['Hamburg'] = 'HH'\n",
    "    d['Hessen'] = 'HE'\n",
    "    d['MecklenburgVorpommern'] = 'MV'  # do not exist in store_state\n",
    "    d['Niedersachsen'] = 'HB,NI'  # we use Niedersachsen instead of Bremen\n",
    "    d['NordrheinWestfalen'] = 'NW'\n",
    "    d['RheinlandPfalz'] = 'RP'\n",
    "    d['Saarland'] = 'SL'\n",
    "    d['Sachsen'] = 'SN'\n",
    "    d['SachsenAnhalt'] = 'ST'\n",
    "    d['SchleswigHolstein'] = 'SH'\n",
    "    d['Thueringen'] = 'TH'\n",
    "\n",
    "    return d[state_name]"
   ]
  },
  {
   "cell_type": "code",
   "execution_count": null,
   "outputs": [],
   "source": [
    "\n"
   ],
   "metadata": {
    "collapsed": false,
    "pycharm": {
     "name": "#%%\n"
    }
   }
  },
  {
   "cell_type": "code",
   "execution_count": 2,
   "outputs": [
    {
     "name": "stdout",
     "output_type": "stream",
     "text": [
      "{'', 'Rain', 'Rain-Hail-Thunderstorm', 'Snow', 'Fog-Rain-Snow', 'Rain-Hail', 'Thunderstorm', 'Rain-Thunderstorm', 'Snow-Hail', 'Rain-Snow-Thunderstorm', 'Fog-Rain-Snow-Hail', 'Fog-Rain-Hail', 'Rain-Snow-Hail-Thunderstorm', 'Fog-Snow-Hail', 'Fog-Snow', 'Fog-Rain-Thunderstorm', 'Fog-Rain-Hail-Thunderstorm', 'Fog-Thunderstorm', 'Rain-Snow', 'Rain-Snow-Hail', 'Fog-Rain', 'Fog'}\n",
      "15840\n"
     ]
    }
   ],
   "source": [
    "file_name=\"/alidata/miyadata/notebook/wft/cduse/other/rs/input/\"\n",
    "\n",
    "file_name2=\"/alidata/miyadata/notebook/wft/cduse/other/rs/output/\"\n",
    "\n",
    "\n",
    "csv_location = file_name+'weather'\n",
    "german_states_weather = glob.glob(csv_location + '/*.csv')\n",
    "weather = {}\n",
    "\n",
    "events = []\n",
    "for one_state in german_states_weather:\n",
    "    state_name = os.path.splitext(os.path.basename(one_state))[0]\n",
    "    state_code = states_names_to_abbreviation(state_name)\n",
    "    with open(one_state, 'r') as csvfile:\n",
    "        daily_weather = csv.reader(csvfile, delimiter=';')\n",
    "        for row_index, one_day in enumerate(daily_weather):\n",
    "            if row_index == 0:\n",
    "                continue\n",
    "            date = one_day[0]\n",
    "            key = (state_code, date)\n",
    "            temperature = [int(one_day[1]), int(one_day[2]), int(one_day[3])]\n",
    "            temperature = [(x - 10) / 30 for x in temperature]  # normalize\n",
    "            humidity = [int(one_day[7]), int(one_day[8]), int(one_day[9])]\n",
    "            humidity = [(x - 50) / 50 for x in humidity]  # normalize\n",
    "            wind = [int(one_day[16]) / 50, int(one_day[17]) / 30]\n",
    "            if one_day[20] == 'NA':\n",
    "                cloud = [0]\n",
    "            else:\n",
    "                cloud = [int(one_day[20])]\n",
    "            event = [event2int(one_day[21])]\n",
    "            weather[key] = temperature + humidity + wind + cloud + event\n",
    "            events.append(one_day[21])\n",
    "\n",
    "print(set(events))\n",
    "with open(file_name2+'weather.pickle', 'wb') as f:\n",
    "    pickle.dump(weather, f, -1)\n",
    "    print(len(weather))\n",
    "\n",
    "\n",
    "\n",
    "\n",
    "\n",
    "\n",
    "\n"
   ],
   "metadata": {
    "collapsed": false,
    "pycharm": {
     "name": "#%%\n"
    }
   }
  }
 ],
 "metadata": {
  "kernelspec": {
   "display_name": "Python 3",
   "language": "python",
   "name": "python3"
  },
  "language_info": {
   "codemirror_mode": {
    "name": "ipython",
    "version": 2
   },
   "file_extension": ".py",
   "mimetype": "text/x-python",
   "name": "python",
   "nbconvert_exporter": "python",
   "pygments_lexer": "ipython2",
   "version": "2.7.6"
  }
 },
 "nbformat": 4,
 "nbformat_minor": 0
}